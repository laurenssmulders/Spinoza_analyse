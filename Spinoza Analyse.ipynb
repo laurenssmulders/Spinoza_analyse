{
 "cells": [
  {
   "cell_type": "markdown",
   "metadata": {},
   "source": [
    "# Onderzoek naar het vergelijken van teksten met behulp van een computer"
   ]
  },
  {
   "cell_type": "markdown",
   "metadata": {},
   "source": [
    "## Inleiding"
   ]
  },
  {
   "cell_type": "markdown",
   "metadata": {},
   "source": [
    "Toen Spinoza in 1670 zijn 'Theologisch-politiek traktaat' publiceerde, deed hij dat in het Latijn. Publicatie van vertalingen hield hij actief tegen, omdat hij bang was dat dit kon leiden tot een gevangenisstraf. Zijn ideeën waren zijn tijd namelijk nogal vooruit; ze zouden pas in de verlichting algemener aanvaard worden. In 1674 werd zijn werk dan ook door de overheid verboden. Hierdoor werd er pas in 1693 een eerste vertaling gepubliceerd. In 1694 volgde een tweede en er is een derde ongedateerde handgeschreven vertaling gevonden. Al deze vertalingen zijn natuurlijk verschillend, maar op sommige plekken toch bijna letterlijk hetzelfde. De overeenkomsten tussen de verschillende vertalingen kunnen veel zeggen over de verspreiding van Spinoza's werk in de jaren, waarin het boek eigenlijk verboden was. Omdat het erg tijdrovend en subjectief is om deze overeenkomst met de hand te bepalen, moet een computer gebruikt worden. Maar hoe kan een computer de overeenkomst tussen stukken tekst bepalen? Dat wordt in dit onderzoek aan de hand van het werk van Spinoza onderzocht. Er zijn voor de verschillende stappen in het proces, verschillende manieren bedacht en die zijn getoetst om te bepalen wat het beste werkt."
   ]
  },
  {
   "cell_type": "markdown",
   "metadata": {},
   "source": [
    "## Onderzoeksvraag"
   ]
  },
  {
   "cell_type": "markdown",
   "metadata": {},
   "source": [
    "De onderzoeksvraag is: \"Hoe kan een computer de overeenkomst tussen stukken tekst bepalen?\"\n",
    "\n",
    "Om deze vraag te beantwoorden, moeten een aantal deelvragen beantwoord worden. Het is hiervoor belangrijk eerst te begrijpen hoe het algoritme er in grote lijnen uit zal zien:\n",
    "\n",
    "Eerst worden de teksten gesplitst in losse delen. Dit kunnen zinnen zijn, maar bijvoorbeeld ook alinea's of hoofdstukken. Vervolgens worden de stukken tekst in beide teksten die een vertaling zijn van hetzelfde aan elkaar gekoppeld. Van al deze koppels wordt dan de overeenkomst bepaald en uitgedrukt in een getal. De overeenkomst wordt dan in een grafiek uitgezet tegen de plaats van het stuk tekst.\n",
    "\n",
    "Dit roept de volgende deelvragen op:\n",
    "    1. Hoe kan de tekst het best gesplitst worden in delen?\n",
    "    2. Hoe kunnen de zinnen die een vertaling zijn van hetzelfde correct aan elkaar gekoppeld worden?\n",
    "    3. Hoe kan de overeenkomst tussen twee stukken tekst bepaald worden en uitgedrukt worden in een getal?\n",
    "    4. Bij welke waarde van de overeenkomst ligt de grens tussen 'hetzelfde' en 'verschillend'?\n",
    "\n",
    "De verschillende manieren die ik voor de deelvragen gevonden heb worden in het vervolg toegelicht. Elke manier wordt getoetst aan de hand van het aantal correct gepaarde zinnen in een deel van de tekst. Ook wordt er gekeken of er met de gebruikte manier genoeg onderscheid te maken is tussen verschillende stukken tekst."
   ]
  },
  {
   "cell_type": "markdown",
   "metadata": {},
   "source": [
    "## Hypothese"
   ]
  },
  {
   "cell_type": "markdown",
   "metadata": {},
   "source": [
    "## Werkwijze"
   ]
  },
  {
   "cell_type": "markdown",
   "metadata": {},
   "source": [
    "De uitvoering van het algoritme bestaat uit drie delen: de voorbewerking van de teksten, zodat deze makkelijker voor de computer te interpreteren zijn, de analyse en dus het bepalen van de overeenkomst en ten slotte de visualisatie: het uitzetten van de gegevens in een grafiek."
   ]
  },
  {
   "cell_type": "markdown",
   "metadata": {},
   "source": [
    "### Voorbewerking van de teksten\n",
    "\n",
    "#### Verwijderen van overbodige witregels\n",
    "Allereerst moeten bij de voorbewerking al aanwezige enters, witregels, etc. verwijderd worden. Op die manier ontstaat een doorlopende tekst, die makkelijker te interpreteren is voor de computer. Hiervoor heb ik de functie 'superstrip()' geschreven."
   ]
  },
  {
   "cell_type": "code",
   "execution_count": null,
   "metadata": {},
   "outputs": [],
   "source": [
    "def superstrip(path_bron, path_doel):\n",
    "    import codecs\n",
    "    file = codecs.open(path_bron, 'r', 'utf-8')\n",
    "    lines = [line.strip() for line in file]\n",
    "    text = \" \".join(lines)\n",
    "    file.close()\n",
    "    file = codecs.open(path_doel, 'w', 'utf-8')\n",
    "    file.write(text)\n",
    "    file.close()"
   ]
  },
  {
   "cell_type": "markdown",
   "metadata": {},
   "source": [
    "#### Opslitsen in verschillende delen"
   ]
  },
  {
   "cell_type": "markdown",
   "metadata": {},
   "source": [
    "Het opsplitsen in verschillende delen is op verschillende manieren gebeurd. Een eerste manier die ik gebruikt heb is het opsplitsen in zinnen. Aan de hand van interpunctie is de tekst opgesplitst in losse zinnen, gescheiden door een enter. Hiervoor heb ik eerst zelf een functie geschreven ('sentence_split()'); later heb ik een functie geimporteerd van de nltk ('nltk.tokenize.sent_tokenize()'). Ik heb deze functies de tekst uit een document laten nemen om de bewerkte tekst vervolgens in een nieuw document op te slaan. Doordat in de ene tekst meer zinnen samengevoegd zijn dan in de andere tekst, levert het splitsen in zinnen in de ene tekst langere blokken op dan in de andere tekst. Ter vervanging van deze manier heb ik dus nog een functie geschreven: 'chunktokenizer()'. Deze functie splitst de tekst op in duizend blokken met evenveel woorden. Als laatste heb ik de tekst opgesplitst in hoofdstukken. Dit kan waarschijnlijk, omdat het aannemelijk is dat een heel hoofdstuk overgenomen werd wanneer er gekopieerd werd door vertalers. Dit is echter niet zeker. Voor het opsplitsen in hoofdstukken heb ik geen functie geschreven. Dit heb ik met de hand gedaan."
   ]
  },
  {
   "cell_type": "code",
   "execution_count": null,
   "metadata": {},
   "outputs": [],
   "source": [
    "def sentence_split(Path_bron, Path_doel):\n",
    "    superstrip(Path_bron, Path_doel)\n",
    "    import codecs\n",
    "    file = codecs.open(Path_doel, 'r', 'utf-8') \n",
    "    text = file.read()\n",
    "    file.close()\n",
    "    \n",
    "    #Vanaf hier wordt de tekst langs punten, vraagtekens en uitroeptekens gevolgd door een spatie gesplitst.\n",
    "    zinnen = text.split('. ')\n",
    "    \n",
    "    text = '.\\n'.join(zinnen)\n",
    "    \n",
    "    zinnen = text.split('! ')\n",
    "    \n",
    "    text = '!\\n'.join(zinnen)\n",
    "    \n",
    "    zinnen = text.split('? ')\n",
    "    \n",
    "    text = '?\\n'.join(zinnen)\n",
    "    \n",
    "    zinnen = text.split('\\n')\n",
    "    \n",
    "    #Hier wordt gecorrigeerd voor het feit dat een zin niet met een kleine letter of met een haakje mag beginnen.\n",
    "    for zin in zinnen:\n",
    "        if len(zin) > 0:\n",
    "            if zin[0].islower():\n",
    "                zinnen[zinnen.index(zin)-1] += ' ' + zin\n",
    "                zinnen.remove(zin)\n",
    "            elif zin[0] == ')':\n",
    "                zinnen[zinnen.index(zin)-1] += ' ' + zin\n",
    "                zinnen.remove(zin)\n",
    "            \n",
    "    #Hier wordt het splitsen langs afkortingen die gevolgd worden door een naam ongedaan gemaakt.\n",
    "    for zin in zinnen:\n",
    "        if len(zin) > 3:\n",
    "            if zin[-3:] == \"Mr.\" or zin[-3:] == \"Dr.\" or zin[-4:] == \"Mrs.\" or zin[-3:] == \"Ms.\":\n",
    "                zinnen[zinnen.index(zin)+1] = zin + ' ' +  zinnen[zinnen.index(zin)+1]\n",
    "                zinnen.remove(zin)\n",
    "    \n",
    "    text = '\\n'.join(zinnen)\n",
    "    \n",
    "    \n",
    "    file = codecs.open(Path_doel, 'w', 'utf-8') \n",
    "    file.write(text)\n",
    "    file.close()\n",
    "    \n",
    "    #Vanaf hier wordt het hele algoritme nog een keer uitgevoerd, omdat bij het splitsen in zinnen weer ongewenste witregels ontstonden.\n",
    "    superstrip(Path_doel, Path_doel)\n",
    "    \n",
    "    import codecs\n",
    "    file = codecs.open(Path_doel, 'r', 'utf-8') \n",
    "    text = file.read()\n",
    "    file.close()\n",
    "    \n",
    "    zinnen = text.split('. ')\n",
    "    \n",
    "    text = '.\\n'.join(zinnen)\n",
    "    \n",
    "    zinnen = text.split('! ')\n",
    "    \n",
    "    text = '!\\n'.join(zinnen)\n",
    "    \n",
    "    zinnen = text.split('? ')\n",
    "    \n",
    "    text = '?\\n'.join(zinnen)\n",
    "    \n",
    "    zinnen = text.split('\\n')\n",
    "    \n",
    "    for zin in zinnen:\n",
    "        if len(zin) > 0:\n",
    "            if zin[0].islower():\n",
    "                zinnen[zinnen.index(zin)-1] += ' ' + zin\n",
    "                zinnen.remove(zin)\n",
    "    \n",
    "    for zin in zinnen:\n",
    "        if len(zin) > 3:\n",
    "            if zin[-3:] == \"Mr.\" or zin[-3:] == \"Dr.\" or zin[-4:] == \"Mrs.\" or zin[-3:] == \"Ms.\":\n",
    "                zinnen[zinnen.index(zin)+1] = zin + ' ' +  zinnen[zinnen.index(zin)+1]\n",
    "                zinnen.remove(zin)\n",
    "    \n",
    "    text = '\\n'.join(zinnen)\n",
    "    \n",
    "    \n",
    "    file = codecs.open(Path_doel, 'w', 'utf-8') \n",
    "    file.write(text)\n",
    "    file.close()\n",
    "    \n",
    "    superstrip(Path_doel, Path_doel)\n",
    "    \n",
    "    import codecs\n",
    "    file = codecs.open(Path_doel, 'r', 'utf-8') \n",
    "    text = file.read()\n",
    "    file.close()\n",
    "    \n",
    "    zinnen = text.split('. ')\n",
    "    \n",
    "    text = '.\\n'.join(zinnen)\n",
    "    \n",
    "    zinnen = text.split('! ')\n",
    "    \n",
    "    text = '!\\n'.join(zinnen)\n",
    "    \n",
    "    zinnen = text.split('? ')\n",
    "    \n",
    "    text = '?\\n'.join(zinnen)\n",
    "    \n",
    "    zinnen = text.split('\\n')\n",
    "    \n",
    "    for zin in zinnen:\n",
    "        if len(zin) > 0:\n",
    "            if zin[0].islower():\n",
    "                zinnen[zinnen.index(zin)-1] += ' ' + zin\n",
    "                zinnen.remove(zin)\n",
    "    \n",
    "    for zin in zinnen:\n",
    "        if len(zin) > 3:\n",
    "            if zin[-3:] == \"Mr.\" or zin[-3:] == \"Dr.\" or zin[-4:] == \"Mrs.\" or zin[-3:] == \"Ms.\":\n",
    "                zinnen[zinnen.index(zin)+1] = zin + ' ' +  zinnen[zinnen.index(zin)+1]\n",
    "                zinnen.remove(zin)\n",
    "    \n",
    "    text = '\\n'.join(zinnen)\n",
    "    \n",
    "    \n",
    "    file = codecs.open(Path_doel, 'w', 'utf-8') \n",
    "    file.write(text)\n",
    "    file.close()\n",
    "    \n",
    "def nltktokenize(path_bron, path_doel):\n",
    "    from nltk.tokenize import sent_tokenize\n",
    "    import codecs\n",
    "    \n",
    "    #Eerst worden weer de witregels verwijderd.\n",
    "    superstrip(path_bron, path_bron)\n",
    "    superstrip(path_bron, path_bron)\n",
    "    \n",
    "    #Vanaf hier wordt de tekst in zinnen opgesplitst.\n",
    "    file = codecs.open(path_bron, 'r', 'utf-8')\n",
    "    text = file.read()\n",
    "    file.close()\n",
    "    text = sent_tokenize(text, language='dutch')\n",
    "    text = '\\n'.join(text)\n",
    "    file = codecs.open(path_doel, 'w', 'utf-8')\n",
    "    file.write(text)\n",
    "    file.close()\n",
    "    \n",
    "def chunktokenizer(path_bron, path_doel):\n",
    "    import codecs\n",
    "    \n",
    "    #Eerst worden weer de witregels verwijderd.\n",
    "    superstrip(path_bron, path_bron)\n",
    "    superstrip(path_bron, path_bron)\n",
    "    file = codecs.open(path_bron, 'r', 'utf-8')\n",
    "    text = file.read()\n",
    "    file.close()\n",
    "    \n",
    "    #Hier wordt het aantal woorden per stuk bepaald.\n",
    "    words = text.split()\n",
    "    number_of_words = len(words)\n",
    "    words_per_chunk = int(round(number_of_words/1000))\n",
    "    \n",
    "    #Hier wordt de tekst opgesplitst\n",
    "    start = 0\n",
    "    end = words_per_chunk + 1\n",
    "    chunks = []\n",
    "    while start < number_of_words:\n",
    "        chunk = ' '.join(words[start:end])\n",
    "        chunks.append(chunk)\n",
    "        start += words_per_chunk\n",
    "        end += words_per_chunk\n",
    "    text = '\\n'.join(chunks)\n",
    "    file = codecs.open(path_doel, 'w', 'utf-8')\n",
    "    file.write(text)\n",
    "    file.close()"
   ]
  },
  {
   "cell_type": "markdown",
   "metadata": {},
   "source": [
    "\n",
    "\n",
    "\n",
    "#### Overbodige tekens en hoofdletters verwijderen\n",
    "Bij het interpreteren van de tekst gaat het alleen om de woorden. Zodra de teksten dus gesplitst zijn in zinnen, moet alle interpunctie verwijderd worden. Om de teksten goed te vergelijken moet het algoritme niet hoofdlettergevoelig zijn. Hierom heb ik alle hoofdletters in de tekst geconverteerd naar kleine letters.\n",
    "\n",
    "In de 17e eeuw was er nog geen uniforme Nederlandse spelling. Anders gespelde woorden moet de computer echter wel als hetzelfde herkennen. Bij bestudering van de teksten valt op dat de verschillen in spelling vaak verschillen in het gebruik van klinkers zijn. Ook het gebruik van de letters d, t, s, z en j verschilt erg. Deze letters gecombineerd met de klinkers zijn dus blijkbaar niet kenmerkend voor een woord. Ik heb het algoritme daarom al deze letters uit de tekst laten verwijderen.\n",
    "\n",
    "Ik heb hier geen losse functie voor geschreven. Het verwijderen van deze tekens is verwerkt in de rest van het algoritme."
   ]
  },
  {
   "cell_type": "markdown",
   "metadata": {},
   "source": [
    "\n",
    "\n",
    "\n",
    "### Analyse van de teksten\n",
    "Bij de analyse moet van verschillende stukken in de tekst de overeenkomst worden bepaald. Er zijn hierbij een paar obstakels. Ten eerste worden er in de teksten sommige zinnen aan elkaar geplakt, of er worden juist nieuwe zinnen toegevoegd. Dit zorgt ervoor dat bijvoorbeeld zin 300 in de ene tekst niet dezelfde betekenis heeft als zin 300 in de andere tekst. De overeenkomst tussen deze twee zinnen bepalen zou zinloos zijn. Voor elke zin in de ene tekst moet dus de qua betekenis equivalente zin in de andere tekst gevonden worden. Ten tweede is de overeenkomst tussen twee zinnen bepalen lastig. Hiervoor heb ik verschillende manieren getest.\n",
    "\n",
    "#### Bepalen van overeenkomst\n",
    "Bij het bepalen van de overeenkomst tussen twee stukken tekst heb ik verschillende technieken gebruikt: overeenkomst op basis van lettervoorkomen, overeenkomst op basis van woordoverlap en overeenkomst met tf-idf.\n",
    "\n",
    "##### Overeenkomst op basis van lettervoorkomen\n",
    "Bij de overeenkomst op basis van lettervoorkomen wordt gekeken naar het aantal keer dat een letter voorkomt in een stukje tekst. Van beide stukken tekst wordt van elke letter het voorkomen geteld. Vervolgens wordt voor elke letter de absolute waarde van het verschil in voorkomen van die letter in beide teksten berekend. Al deze vershillen worden vervolgens bij elkaar opgeteld. Hoe hoger deze waarde, hoe minder overeenkomst tussen beide zinnen. Langere zinnen hebben echter meer kans op een hogere waarde. Om hiervoor te corrigeren wordt de som van de verschillen gedeeld door de som van het totale aantal letters van beide zinnen. Op deze manier wordt altijd een waarde tussen 0 en 1 verkregen. Het uiteindelijke resultaat is dan 1 minus deze waarde. Op die manier betekent 0 geen overeenkomst en 1 maximale overeenkomst. De functie die ik hiervoor geschreven heb heet 'match_characters()'."
   ]
  },
  {
   "cell_type": "code",
   "execution_count": null,
   "metadata": {},
   "outputs": [],
   "source": [
    "def countcharacter(string, character):\n",
    "    count = 0\n",
    "    for element in string:\n",
    "        if element == character:\n",
    "            count+=1\n",
    "    return count\n",
    "\n",
    "\n",
    "def match_characters(string1, string2):\n",
    "    list1 = []\n",
    "    list2 = []\n",
    "    verschillen = []\n",
    "    string1 = string1.lower()\n",
    "    string2 = string2.lower()\n",
    "    kenmerkende_letters = ['q', 'w', 'r', 't', 'p', 's', 'd', 'f', 'g', 'h', 'k', 'l', 'z', 'x', 'c', 'v', 'b', 'n', 'm']\n",
    "    for letter in kenmerkende_letters:\n",
    "        list1.append(countcharacter(string1, letter))\n",
    "        list2.append(countcharacter(string2, letter))\n",
    "    list_zipped = zip(list1, list2)\n",
    "    for paar in list_zipped:\n",
    "        waarde1, waarde2 = paar\n",
    "        verschillen.append(abs(waarde1 - waarde2))\n",
    "    for character in string1:\n",
    "        if character not in kenmerkende_letters:\n",
    "            string1 = string1.replace(character, \"\")\n",
    "    for character in string2:\n",
    "        if character not in kenmerkende_letters:\n",
    "            string2 = string2.replace(character, \"\")\n",
    "    match = 1-(sum(verschillen)/(len(string1)+len(string2)))\n",
    "    return match "
   ]
  },
  {
   "cell_type": "markdown",
   "metadata": {},
   "source": [
    "\n",
    "\n",
    "\n",
    "##### Overeenkomst op basis van woordoverlap\n",
    "Bij de overeenkomst op basis van woordoverlap wordt gekeken naar hoeveel woorden in beide zinnen voorkomen. Dit aantal wordt vervolgens ook weer gecorrigeerd naar lengte van de zin door het te delen door het gemiddelde aantal woorden per zin. Ook worden woorden die na het verwijderen van niet-kenmerkende letters nog maar uit één letter bestaan, niet meegerekend bij de woordoverlap. De kans is namelijk groot dat deze woorden zonder niet-kenmerkende letters hetzelfde zijn, maar toch verschillend zijn met deze letters erbij. Bovendien zijn dit vaak korte voeg- of lidwoorden. Deze woorden voegen niet veel toe aan de betekenis van een zin. De functie hiervoor heb ik 'match_wordsintersection()' genoemd."
   ]
  },
  {
   "cell_type": "code",
   "execution_count": null,
   "metadata": {},
   "outputs": [],
   "source": [
    "def match_wordsintersection(sentence1, sentence2):\n",
    "    \n",
    "    #Hier worden niet-kenmerkende letters en leestekens verwijderd.\n",
    "    kenmerkende_letters_en_spatie = ['q', 'w', 'r', 'p', 'f', 'g', 'h', 'k', 'l', 'x', 'c', 'v', 'b', 'n', 'm', ' ']\n",
    "    for character in sentence1:\n",
    "        if character not in kenmerkende_letters_en_spatie:\n",
    "            sentence1 = sentence1.replace(character, \"\")\n",
    "    for character in sentence2:\n",
    "        if character not in kenmerkende_letters_en_spatie:\n",
    "            sentence2 = sentence2.replace(character, \"\")\n",
    "    \n",
    "    #Hier wordt de overeenkomst bepaald.\n",
    "    sentence1 = set(sentence1.split())\n",
    "    sentence2 = set(sentence2.split())\n",
    "    intersection = sentence1.intersection(sentence2)\n",
    "    intersection = list(intersection)\n",
    "    for word in intersection:\n",
    "        if len(word) < 2:\n",
    "           intersection.remove(word)\n",
    "    match = (2*len(intersection)/(len(sentence1) + len(sentence2)))\n",
    "    return match"
   ]
  },
  {
   "cell_type": "markdown",
   "metadata": {},
   "source": [
    "\n",
    "\n",
    "\n",
    "##### Overeenkomst met tf-idf\n",
    "Tf-idf is een techniek om overeenkomst tussen teksten te bepalen die bijvoorbeeld veel gebruikt wordt in zoekmachines om de overeenkomst tussen de tekst op een website en de zoekopdracht te bepalen. De techniek bestaat uit twee delen: Term Frequency (tf) en Inverse Document Frequency (idf).\n",
    "\n",
    "De term frequency is simpelweg het aantal keer dat een bepaalde term voorkomt in een tekst. Vaak wordt dit nog wel gecorrigeerd naar de lengte van de tekst. In dit onderzoek heb ik het aantal keer dat een term in een tekst voorkomt gedeeld door het het aantal keer dat de term die het meeste voorkomt in die tekst, voorkomt. Op die manier is de tf-waarde altijd een getal tussen 0 en 1. \n",
    "\n",
    "De inverse document frequency is er om het belang van bepaalde woorden te bepalen. Wanneer in een tekst bijvoorbeeld heel vaak het woord 'de' voorkomt, kan je nog niets zeggen over de inhoud van die tekst. Juist woorden die normaalgesproken zeldzaam zijn, maar in de tekst wel vaak voorkomen, kunnen veel verraden over de betekenis. De tf-waarde van deze woorden is dus belangrijker. Bij de inverse document frequency wordt daarom in alle te vergelijken tekstfragmenten gezocht naar een term. Het aantal tekstfragmenten waarin de term voorkomt wordt dan geteld. Wanneer een term in meer documenten voorkomt is deze dus minder belangrijk. De idf waarde wordt dan berekend door het totale aantal tekstfragmenten te delen door het aantal tekstfragmenten waarin de term voorkomt en daar de logaritme van te nemen. Vaak wordt bij het aantal tekstfragmenten waarin de term voorkomt nog 1 opgeteld om delen door 0 te voorkomen. Ook in dit onderzoek heb ik dat gedaan.\n",
    "\n",
    "Voor elke term heeft een tekstfragment dus een tf waarde en een idf waarde. Dit heb ik gebruikt door voor een zin van elke term de tf en de idf waarde in de andere zin te bepalen. De idf waarde wordt dan verkregen door te vergelijken met de andere zinnen in de vertaling. Deze tf en idf waarde van elke term heb ik dan met elkaar vermenigvuldigd om de tf-idf-waarde te berekenen. Al deze tf-idf-waardes heb ik bij elkaar opgeteld en gedeeld door het aantal woorden in de zin. Hoe hoger deze waarde dan is, hoe groter de overeenkomst tussen de zinnen."
   ]
  },
  {
   "cell_type": "code",
   "execution_count": null,
   "metadata": {},
   "outputs": [],
   "source": [
    "def tf(term, string):\n",
    "    terms = string.split()\n",
    "    termsset = set(terms)\n",
    "    terms_enkel = list(termsset)\n",
    "    frequencies = []\n",
    "    for word in terms_enkel:\n",
    "        count = 0\n",
    "        for element in terms:\n",
    "            if element == word:\n",
    "                count += 1\n",
    "        frequencies.append(count)\n",
    "    maximum = max(frequencies)\n",
    "    count = 0\n",
    "    for word in terms:\n",
    "        if word == term:\n",
    "            count += 1\n",
    "    tf = count/maximum\n",
    "    return tf\n",
    "\n",
    "def idf(term, text):\n",
    "    textlist = text.split('\\n')\n",
    "    count = 0\n",
    "    import math\n",
    "    for element in textlist:\n",
    "        words = element.split()\n",
    "        if term in words:\n",
    "            count += 1\n",
    "    idf = math.log(len(textlist)/(count+0.000001))\n",
    "    return idf\n",
    "\n",
    "def tfidf(term, string, text):\n",
    "    tfidf = tf(term, string)*idf(term, text)\n",
    "    return tfidf\n",
    "\n",
    "def match_tfidf(string1, string2, text2):\n",
    "    #Hier worden niet-kenmerkende letters en leestekens verwijderd.\n",
    "    kenmerkende_letters_en_spatie = ['q', 'w', 'r', 'p', 'f', 'g', 'h', 'k', 'l', 'x', 'c', 'v', 'b', 'n', 'm', ' ']\n",
    "    for character in string1:\n",
    "        if character not in kenmerkende_letters_en_spatie:\n",
    "            string1 = string1.replace(character, \"\")\n",
    "    for character in string2:\n",
    "        if character not in kenmerkende_letters_en_spatie:\n",
    "            string2 = string2.replace(character, \"\")\n",
    "    for character in text2:\n",
    "        if character not in kenmerkende_letters_en_spatie:\n",
    "            text2 = text2.replace(character, \"\")\n",
    "            \n",
    "    #Hier wordt de overeenkomst bepaald.\n",
    "    string1list = string1.split()\n",
    "    match = 0\n",
    "    for element in string1list:\n",
    "        count = 0\n",
    "        waarde = tfidf(element, string2, text2)\n",
    "        for word in string1list:\n",
    "            if word == element:\n",
    "                count += 1\n",
    "        match += waarde*count\n",
    "        match = match/len(string1list)\n",
    "    return match"
   ]
  },
  {
   "cell_type": "markdown",
   "metadata": {},
   "source": [
    "\n",
    "\n",
    "\n",
    "#### Koppelen van equivalente zinnen\n",
    "Het koppelen van equivalente zinnen is gedaan door van een zin in de ene vertaling de overeenkomst met elke zin in de andere vertaling te bepalen. De zin waarmee de overeenkomst het grootst is, wordt dan gekoppeld aan deze zin. Dit wordt voor elke zin in de vertaling gedaan. Op deze manier onstaat een lijst van gekoppelde zinnen. Hiervoor heb ik drie verschillende functies geschreven op basis van de eerder beschreven drie manieren van bepalen van overeenkomst."
   ]
  },
  {
   "cell_type": "code",
   "execution_count": null,
   "metadata": {},
   "outputs": [],
   "source": [
    "def pairs_characters(text1, text2):\n",
    "    list1 = text1.split('\\n')\n",
    "    list2 = text2.split('\\n')\n",
    "    paired_strings = []\n",
    "    for string1 in list1:\n",
    "        matchlist = []\n",
    "        for string2 in list2:\n",
    "            matchlist.append(match_characters(string1, string2))\n",
    "        pair = (string1, list2[matchlist.index(max(matchlist))])\n",
    "        paired_strings.append(pair)\n",
    "    return paired_strings\n",
    "\n",
    "def pairs_wordsintersection(text1, text2):\n",
    "    list1 = text1.split('\\n')\n",
    "    list2 = text2.split('\\n')\n",
    "    paired_strings = []\n",
    "    for string1 in list1:\n",
    "        matchlist = []\n",
    "        for string2 in list2:\n",
    "            matchlist.append(match_wordsintersection(string1, string2))\n",
    "        pair = (string1, list2[matchlist.index(max(matchlist))])\n",
    "        paired_strings.append(pair)\n",
    "    return paired_strings\n",
    "\n",
    "def pairs_tfidf(text1, text2):\n",
    "    list1 = text1.split('\\n')\n",
    "    list2 = text2.split('\\n')\n",
    "    paired_strings = []\n",
    "    for string1 in list1:\n",
    "        matchlist = []\n",
    "        for string2 in list2:\n",
    "            matchlist.append(match_tfidf(string1, string2, text2))\n",
    "        pair = (string1, list2[matchlist.index(max(matchlist))])\n",
    "        paired_strings.append(pair)\n",
    "    return paired_strings"
   ]
  },
  {
   "cell_type": "markdown",
   "metadata": {},
   "source": [
    "#### Visualisatie"
   ]
  },
  {
   "cell_type": "markdown",
   "metadata": {},
   "source": [
    "Voor de visualisatie wordt de overeenkomst van een zinnenpaar in een grafiek uitgezet tegen de plaats van dat zinnenpaar. Daarnaast worden de zinnenparen in een document geplakt met de overeenkomst erbij. Aan de hand van dit document kan gecontroleerd worden of zinnen goed aan elkaar gekoppeld zijn."
   ]
  },
  {
   "cell_type": "code",
   "execution_count": null,
   "metadata": {},
   "outputs": [],
   "source": [
    "def plot_characters(path1, path2, path3):\n",
    "    import codecs\n",
    "    import matplotlib.pyplot\n",
    "    file1 = codecs.open(path1, 'r', 'utf-8')\n",
    "    text1 = file1.read()\n",
    "    file1.close()\n",
    "    file2 = codecs.open(path2, 'r', 'utf-8')\n",
    "    text2 = file2.read()\n",
    "    file2.close()\n",
    "    x_place = []\n",
    "    y_match = []\n",
    "    pairs = pairs_characters(text1, text2)\n",
    "    for pair in pairs:\n",
    "        x_place.append(pairs.index(pair)+1)\n",
    "        string1, string2 = pair\n",
    "        y_match.append(match_characters(string1, string2))\n",
    "    zinnen_paired = \"\"\n",
    "    for element in pairs:\n",
    "        zin1, zin2 = element\n",
    "        zinnen_paired += str(pairs.index(element) + 1) + '\\n\\n' + zin1 + \"\\n\" + zin2 + \"\\n\" + str(y_match[pairs.index(element)]) + '\\n\\n=======================================================\\n'\n",
    "    file3 = codecs.open(path3, 'w', 'utf-8')\n",
    "    file3.write(zinnen_paired)\n",
    "    file3.close()\n",
    "    print(matplotlib.pyplot.plot(x_place, y_match))\n",
    "    \n",
    "    \n",
    "def plot_wordsintersection(path1, path2, path3):\n",
    "    import codecs\n",
    "    import matplotlib.pyplot\n",
    "    file1 = codecs.open(path1, 'r', 'utf-8')\n",
    "    text1 = file1.read()\n",
    "    file1.close()\n",
    "    file2 = codecs.open(path2, 'r', 'utf-8')\n",
    "    text2 = file2.read()\n",
    "    file2.close()\n",
    "    x_place = []\n",
    "    y_match = []\n",
    "    pairs = pairs_wordsintersection(text1, text2)\n",
    "    for pair in pairs:\n",
    "        x_place.append(pairs.index(pair)+1)\n",
    "        string1, string2 = pair\n",
    "        y_match.append(match_wordsintersection(string1, string2))\n",
    "    zinnen_paired = \"\"\n",
    "    for element in pairs:\n",
    "        zin1, zin2 = element\n",
    "        zinnen_paired += str(pairs.index(element) + 1) + '\\n\\n' + zin1 + \"\\n\" + zin2 + \"\\n\" + str(y_match[pairs.index(element)]) + '\\n\\n=======================================================\\n'\n",
    "    file3 = codecs.open(path3, 'w', 'utf-8')\n",
    "    file3.write(zinnen_paired)\n",
    "    file3.close()\n",
    "    print(matplotlib.pyplot.plot(x_place, y_match))\n",
    "    \n",
    "def plot_tfidf(path1, path2, path3):\n",
    "    import codecs\n",
    "    import matplotlib.pyplot\n",
    "    file1 = codecs.open(path1, 'r', 'utf-8')\n",
    "    text1 = file1.read()\n",
    "    file1.close()\n",
    "    file2 = codecs.open(path2, 'r', 'utf-8')\n",
    "    text2 = file2.read()\n",
    "    file2.close()\n",
    "    x_place = []\n",
    "    y_match = []\n",
    "    pairs = pairs_tfidf(text1, text2)\n",
    "    for pair in pairs:\n",
    "        x_place.append(pairs.index(pair)+1)\n",
    "        string1, string2 = pair\n",
    "        y_match.append(match_tfidf(string1, string2, text2))\n",
    "    zinnen_paired = \"\"\n",
    "    for element in pairs:\n",
    "        zin1, zin2 = element\n",
    "        zinnen_paired += str(pairs.index(element) + 1) + '\\n\\n' + zin1 + \"\\n\\n\" + zin2 + \"\\n\\n\" + str(y_match[pairs.index(element)]) + '\\n\\n=======================================================\\n'\n",
    "    file3 = codecs.open(path3, 'w', 'utf-8')\n",
    "    file3.write(zinnen_paired)\n",
    "    file3.close()\n",
    "    print(matplotlib.pyplot.plot(x_place, y_match))"
   ]
  },
  {
   "cell_type": "markdown",
   "metadata": {},
   "source": [
    "## Resultaten"
   ]
  },
  {
   "cell_type": "markdown",
   "metadata": {},
   "source": [
    "Voor het testen van de verschillende manieren wordt eerst de voorbewerking gedaan. Deze wordt voor elk document op drie verschillende manieren gedaan: met de eigen gemaakte tokenizer, met de tokenizer van de nltk en met de chunktokenizer."
   ]
  },
  {
   "cell_type": "code",
   "execution_count": 1,
   "metadata": {},
   "outputs": [],
   "source": [
    "from functions_spinoza import sentence_split\n",
    "from functions_spinoza import nltktokenize\n",
    "from functions_spinoza import chunktokenizer\n",
    "\n",
    "sentence_split(r'Onbewerkte_documenten/Spinoza_unknown_GSV_unknown_corrected_utf8', r'Voorbewerkte_documenten/Spinoza_unknown_GSV_unknown_corrected_utf8_sentence_split')\n",
    "sentence_split(r'Onbewerkte_documenten/TTP1693_no_markup_utf8', r'Voorbewerkte_documenten/TTP1693_no_markup_utf8_sentence_split')\n",
    "sentence_split(r'Onbewerkte_documenten/TTP1694_no_markup_utf8', r'Voorbewerkte_documenten/TTP1694_no_markup_utf8_sentence_split')\n",
    "nltktokenize(r'Onbewerkte_documenten/Spinoza_unknown_GSV_unknown_corrected_utf8', r'Voorbewerkte_documenten/Spinoza_unknown_GSV_unknown_corrected_utf8_nltktokenize')\n",
    "nltktokenize(r'Onbewerkte_documenten/TTP1693_no_markup_utf8', r'Voorbewerkte_documenten/TTP1693_no_markup_utf8_nltktokenize')\n",
    "nltktokenize(r'Onbewerkte_documenten/TTP1694_no_markup_utf8', r'Voorbewerkte_documenten/TTP1694_no_markup_utf8_nltktokenize')\n",
    "chunktokenizer(r'Onbewerkte_documenten/Spinoza_unknown_GSV_unknown_corrected_utf8', r'Voorbewerkte_documenten/Spinoza_unknown_GSV_unknown_corrected_utf8_chunktokenizer')\n",
    "chunktokenizer(r'Onbewerkte_documenten/TTP1693_no_markup_utf8', r'Voorbewerkte_documenten/TTP1693_no_markup_utf8_chunktokenizer')\n",
    "chunktokenizer(r'Onbewerkte_documenten/TTP1694_no_markup_utf8', r'Voorbewerkte_documenten/TTP1694_no_markup_utf8_chunktokenizer')"
   ]
  },
  {
   "cell_type": "markdown",
   "metadata": {},
   "source": [
    "### Bepalen van overeenkomst"
   ]
  },
  {
   "cell_type": "markdown",
   "metadata": {},
   "source": [
    "Bij het bepalen van de beste manier om de overeenkomst te bepalen wordt steeds gekeken naar de eerste twintig zinnen van het het document: 'TTP1693_no_markup_nltktokenize' en de zinnen die daarbij horen uit het document: 'TTP1694_no_markup_nltktokenize'. Voor deze zinnen worden de 'plot'functies van alle verschillende manieren om overeenkomst te bepalen uitgevoerd. Vervolgens wordt in de gecreëerde documenten gekekeken hoeveel zinnen correct aan elkaar gekoppeld zijn."
   ]
  },
  {
   "cell_type": "code",
   "execution_count": 1,
   "metadata": {},
   "outputs": [
    {
     "name": "stdout",
     "output_type": "stream",
     "text": [
      "[<matplotlib.lines.Line2D object at 0x000002184C836E88>]\n"
     ]
    },
    {
     "ename": "ZeroDivisionError",
     "evalue": "division by zero",
     "output_type": "error",
     "traceback": [
      "\u001b[1;31m---------------------------------------------------------------------------\u001b[0m",
      "\u001b[1;31mZeroDivisionError\u001b[0m                         Traceback (most recent call last)",
      "\u001b[1;32m<ipython-input-1-cdf007fa1b46>\u001b[0m in \u001b[0;36m<module>\u001b[1;34m\u001b[0m\n\u001b[0;32m      4\u001b[0m \u001b[1;33m\u001b[0m\u001b[0m\n\u001b[0;32m      5\u001b[0m \u001b[0mplot_characters\u001b[0m\u001b[1;33m(\u001b[0m\u001b[1;34mr'Voorbewerkte_documenten/TTP1693_no_markup_utf8_nltktokenize_eerste_twintig'\u001b[0m\u001b[1;33m,\u001b[0m \u001b[1;34mr'Voorbewerkte_documenten/TTP1694_no_markup_utf8_nltktokenize_eerste_twintig'\u001b[0m\u001b[1;33m,\u001b[0m \u001b[1;34mr'Resultaten/TTP1693_TTP1694_characters'\u001b[0m\u001b[1;33m)\u001b[0m\u001b[1;33m\u001b[0m\u001b[1;33m\u001b[0m\u001b[0m\n\u001b[1;32m----> 6\u001b[1;33m \u001b[0mplot_wordsintersection\u001b[0m\u001b[1;33m(\u001b[0m\u001b[1;34mr'Voorbewerkte_documenten/TTP1693_no_markup_utf8_nltktokenize_eerste_twintig'\u001b[0m\u001b[1;33m,\u001b[0m \u001b[1;34mr'Voorbewerkte_documenten/TTP1694_no_markup_utf8_nltktokenize_eerste_twintig'\u001b[0m\u001b[1;33m,\u001b[0m \u001b[1;34mr'Resultaten/TTP1693_TTP1694_wordsintersection'\u001b[0m\u001b[1;33m)\u001b[0m\u001b[1;33m\u001b[0m\u001b[1;33m\u001b[0m\u001b[0m\n\u001b[0m\u001b[0;32m      7\u001b[0m \u001b[0mplot_tfidf\u001b[0m\u001b[1;33m(\u001b[0m\u001b[1;34mr'Voorbewerkte_documenten/TTP1693_no_markup_utf8_nltktokenize_eerste_twintig'\u001b[0m\u001b[1;33m,\u001b[0m \u001b[1;34mr'Voorbewerkte_documenten/TTP1694_no_markup_utf8_nltktokenize_eerste_twintig'\u001b[0m\u001b[1;33m,\u001b[0m \u001b[1;34mr'Resultaten/TTP1693_TTP1694_tfidf'\u001b[0m\u001b[1;33m)\u001b[0m\u001b[1;33m\u001b[0m\u001b[1;33m\u001b[0m\u001b[0m\n",
      "\u001b[1;32m~\\functions_spinoza.py\u001b[0m in \u001b[0;36mplot_wordsintersection\u001b[1;34m(path1, path2, path3)\u001b[0m\n\u001b[0;32m    354\u001b[0m     \u001b[0mx_place\u001b[0m \u001b[1;33m=\u001b[0m \u001b[1;33m[\u001b[0m\u001b[1;33m]\u001b[0m\u001b[1;33m\u001b[0m\u001b[1;33m\u001b[0m\u001b[0m\n\u001b[0;32m    355\u001b[0m     \u001b[0my_match\u001b[0m \u001b[1;33m=\u001b[0m \u001b[1;33m[\u001b[0m\u001b[1;33m]\u001b[0m\u001b[1;33m\u001b[0m\u001b[1;33m\u001b[0m\u001b[0m\n\u001b[1;32m--> 356\u001b[1;33m     \u001b[0mpairs\u001b[0m \u001b[1;33m=\u001b[0m \u001b[0mpairs_wordsintersection\u001b[0m\u001b[1;33m(\u001b[0m\u001b[0mtext1\u001b[0m\u001b[1;33m,\u001b[0m \u001b[0mtext2\u001b[0m\u001b[1;33m)\u001b[0m\u001b[1;33m\u001b[0m\u001b[1;33m\u001b[0m\u001b[0m\n\u001b[0m\u001b[0;32m    357\u001b[0m     \u001b[1;32mfor\u001b[0m \u001b[0mpair\u001b[0m \u001b[1;32min\u001b[0m \u001b[0mpairs\u001b[0m\u001b[1;33m:\u001b[0m\u001b[1;33m\u001b[0m\u001b[1;33m\u001b[0m\u001b[0m\n\u001b[0;32m    358\u001b[0m         \u001b[0mx_place\u001b[0m\u001b[1;33m.\u001b[0m\u001b[0mappend\u001b[0m\u001b[1;33m(\u001b[0m\u001b[0mpairs\u001b[0m\u001b[1;33m.\u001b[0m\u001b[0mindex\u001b[0m\u001b[1;33m(\u001b[0m\u001b[0mpair\u001b[0m\u001b[1;33m)\u001b[0m\u001b[1;33m+\u001b[0m\u001b[1;36m1\u001b[0m\u001b[1;33m)\u001b[0m\u001b[1;33m\u001b[0m\u001b[1;33m\u001b[0m\u001b[0m\n",
      "\u001b[1;32m~\\functions_spinoza.py\u001b[0m in \u001b[0;36mpairs_wordsintersection\u001b[1;34m(text1, text2)\u001b[0m\n\u001b[0;32m    299\u001b[0m         \u001b[0mmatchlist\u001b[0m \u001b[1;33m=\u001b[0m \u001b[1;33m[\u001b[0m\u001b[1;33m]\u001b[0m\u001b[1;33m\u001b[0m\u001b[1;33m\u001b[0m\u001b[0m\n\u001b[0;32m    300\u001b[0m         \u001b[1;32mfor\u001b[0m \u001b[0mstring2\u001b[0m \u001b[1;32min\u001b[0m \u001b[0mlist2\u001b[0m\u001b[1;33m:\u001b[0m\u001b[1;33m\u001b[0m\u001b[1;33m\u001b[0m\u001b[0m\n\u001b[1;32m--> 301\u001b[1;33m             \u001b[0mmatchlist\u001b[0m\u001b[1;33m.\u001b[0m\u001b[0mappend\u001b[0m\u001b[1;33m(\u001b[0m\u001b[0mmatch_wordsintersection\u001b[0m\u001b[1;33m(\u001b[0m\u001b[0mstring1\u001b[0m\u001b[1;33m,\u001b[0m \u001b[0mstring2\u001b[0m\u001b[1;33m)\u001b[0m\u001b[1;33m)\u001b[0m\u001b[1;33m\u001b[0m\u001b[1;33m\u001b[0m\u001b[0m\n\u001b[0m\u001b[0;32m    302\u001b[0m         \u001b[0mpair\u001b[0m \u001b[1;33m=\u001b[0m \u001b[1;33m(\u001b[0m\u001b[0mstring1\u001b[0m\u001b[1;33m,\u001b[0m \u001b[0mlist2\u001b[0m\u001b[1;33m[\u001b[0m\u001b[0mmatchlist\u001b[0m\u001b[1;33m.\u001b[0m\u001b[0mindex\u001b[0m\u001b[1;33m(\u001b[0m\u001b[0mmax\u001b[0m\u001b[1;33m(\u001b[0m\u001b[0mmatchlist\u001b[0m\u001b[1;33m)\u001b[0m\u001b[1;33m)\u001b[0m\u001b[1;33m]\u001b[0m\u001b[1;33m)\u001b[0m\u001b[1;33m\u001b[0m\u001b[1;33m\u001b[0m\u001b[0m\n\u001b[0;32m    303\u001b[0m         \u001b[0mpaired_strings\u001b[0m\u001b[1;33m.\u001b[0m\u001b[0mappend\u001b[0m\u001b[1;33m(\u001b[0m\u001b[0mpair\u001b[0m\u001b[1;33m)\u001b[0m\u001b[1;33m\u001b[0m\u001b[1;33m\u001b[0m\u001b[0m\n",
      "\u001b[1;32m~\\functions_spinoza.py\u001b[0m in \u001b[0;36mmatch_wordsintersection\u001b[1;34m(sentence1, sentence2)\u001b[0m\n\u001b[0;32m    218\u001b[0m         \u001b[1;32mif\u001b[0m \u001b[0mlen\u001b[0m\u001b[1;33m(\u001b[0m\u001b[0mword\u001b[0m\u001b[1;33m)\u001b[0m \u001b[1;33m<\u001b[0m \u001b[1;36m2\u001b[0m\u001b[1;33m:\u001b[0m\u001b[1;33m\u001b[0m\u001b[1;33m\u001b[0m\u001b[0m\n\u001b[0;32m    219\u001b[0m            \u001b[0mintersection\u001b[0m\u001b[1;33m.\u001b[0m\u001b[0mremove\u001b[0m\u001b[1;33m(\u001b[0m\u001b[0mword\u001b[0m\u001b[1;33m)\u001b[0m\u001b[1;33m\u001b[0m\u001b[1;33m\u001b[0m\u001b[0m\n\u001b[1;32m--> 220\u001b[1;33m     \u001b[0mmatch\u001b[0m \u001b[1;33m=\u001b[0m \u001b[1;33m(\u001b[0m\u001b[1;36m2\u001b[0m\u001b[1;33m*\u001b[0m\u001b[0mlen\u001b[0m\u001b[1;33m(\u001b[0m\u001b[0mintersection\u001b[0m\u001b[1;33m)\u001b[0m\u001b[1;33m/\u001b[0m\u001b[1;33m(\u001b[0m\u001b[0mlen\u001b[0m\u001b[1;33m(\u001b[0m\u001b[0msentence1\u001b[0m\u001b[1;33m)\u001b[0m \u001b[1;33m+\u001b[0m \u001b[0mlen\u001b[0m\u001b[1;33m(\u001b[0m\u001b[0msentence2\u001b[0m\u001b[1;33m)\u001b[0m\u001b[1;33m)\u001b[0m\u001b[1;33m)\u001b[0m\u001b[1;33m\u001b[0m\u001b[1;33m\u001b[0m\u001b[0m\n\u001b[0m\u001b[0;32m    221\u001b[0m     \u001b[1;32mreturn\u001b[0m \u001b[0mmatch\u001b[0m\u001b[1;33m\u001b[0m\u001b[1;33m\u001b[0m\u001b[0m\n\u001b[0;32m    222\u001b[0m \u001b[1;33m\u001b[0m\u001b[0m\n",
      "\u001b[1;31mZeroDivisionError\u001b[0m: division by zero"
     ]
    },
    {
     "data": {
      "image/png": "[encoded data removed]",
      "text/plain": [
       "<Figure size 432x288 with 1 Axes>"
      ]
     },
     "metadata": {
      "needs_background": "light"
     },
     "output_type": "display_data"
    }
   ],
   "source": [
    "from functions_spinoza import plot_characters\n",
    "from functions_spinoza import plot_wordsintersection\n",
    "from functions_spinoza import plot_tfidf\n",
    "\n",
    "plot_characters(r'Voorbewerkte_documenten/TTP1693_no_markup_utf8_nltktokenize_eerste_twintig', r'Voorbewerkte_documenten/TTP1694_no_markup_utf8_nltktokenize_eerste_twintig', r'Resultaten/TTP1693_TTP1694_characters')\n",
    "plot_wordsintersection(r'Voorbewerkte_documenten/TTP1693_no_markup_utf8_nltktokenize_eerste_twintig', r'Voorbewerkte_documenten/TTP1694_no_markup_utf8_nltktokenize_eerste_twintig', r'Resultaten/TTP1693_TTP1694_wordsintersection')\n",
    "plot_tfidf(r'Voorbewerkte_documenten/TTP1693_no_markup_utf8_nltktokenize_eerste_twintig', r'Voorbewerkte_documenten/TTP1694_no_markup_utf8_nltktokenize_eerste_twintig', r'Resultaten/TTP1693_TTP1694_tfidf')"
   ]
  },
  {
   "cell_type": "code",
   "execution_count": null,
   "metadata": {},
   "outputs": [],
   "source": []
  }
 ],
 "metadata": {
  "kernelspec": {
   "display_name": "Python 3",
   "language": "python",
   "name": "python3"
  },
  "language_info": {
   "codemirror_mode": {
    "name": "ipython",
    "version": 3
   },
   "file_extension": ".py",
   "mimetype": "text/x-python",
   "name": "python",
   "nbconvert_exporter": "python",
   "pygments_lexer": "ipython3",
   "version": "3.7.6"
  }
 },
 "nbformat": 4,
 "nbformat_minor": 4
}
